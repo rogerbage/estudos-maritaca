{
 "cells": [
  {
   "cell_type": "code",
   "execution_count": 1,
   "id": "5d24239d",
   "metadata": {},
   "outputs": [
    {
     "name": "stdout",
     "output_type": "stream",
     "text": [
      "Defaulting to user installation because normal site-packages is not writeable\n",
      "\u001b[33mWARNING: Ignoring invalid distribution -orch (/home/rogerbage/.local/lib/python3.10/site-packages)\u001b[0m\u001b[33m\n",
      "\u001b[0m\u001b[33mWARNING: Ignoring invalid distribution -orch (/home/rogerbage/.local/lib/python3.10/site-packages)\u001b[0m\u001b[33m\n",
      "\u001b[0mCollecting maritalk\n",
      "  Downloading maritalk-0.1.5-py3-none-any.whl (12 kB)\n",
      "Requirement already satisfied: tqdm in /home/rogerbage/.local/lib/python3.10/site-packages (from maritalk) (4.64.1)\n",
      "Requirement already satisfied: requests in /home/rogerbage/.local/lib/python3.10/site-packages (from maritalk) (2.28.1)\n",
      "Requirement already satisfied: urllib3<1.27,>=1.21.1 in /home/rogerbage/.local/lib/python3.10/site-packages (from requests->maritalk) (1.26.13)\n",
      "Requirement already satisfied: certifi>=2017.4.17 in /home/rogerbage/.local/lib/python3.10/site-packages (from requests->maritalk) (2022.12.7)\n",
      "Requirement already satisfied: charset-normalizer<3,>=2 in /home/rogerbage/.local/lib/python3.10/site-packages (from requests->maritalk) (2.1.1)\n",
      "Requirement already satisfied: idna<4,>=2.5 in /home/rogerbage/.local/lib/python3.10/site-packages (from requests->maritalk) (3.4)\n",
      "\u001b[33mWARNING: Ignoring invalid distribution -orch (/home/rogerbage/.local/lib/python3.10/site-packages)\u001b[0m\u001b[33m\n",
      "\u001b[0mInstalling collected packages: maritalk\n",
      "\u001b[33mWARNING: Ignoring invalid distribution -orch (/home/rogerbage/.local/lib/python3.10/site-packages)\u001b[0m\u001b[33m\n",
      "\u001b[0mSuccessfully installed maritalk-0.1.5\n",
      "\u001b[33mWARNING: Ignoring invalid distribution -orch (/home/rogerbage/.local/lib/python3.10/site-packages)\u001b[0m\u001b[33m\n",
      "\u001b[0m\u001b[33mWARNING: Ignoring invalid distribution -orch (/home/rogerbage/.local/lib/python3.10/site-packages)\u001b[0m\u001b[33m\n",
      "\u001b[0m\u001b[33mWARNING: Ignoring invalid distribution -orch (/home/rogerbage/.local/lib/python3.10/site-packages)\u001b[0m\u001b[33m\n",
      "\u001b[0m\n",
      "\u001b[1m[\u001b[0m\u001b[34;49mnotice\u001b[0m\u001b[1;39;49m]\u001b[0m\u001b[39;49m A new release of pip is available: \u001b[0m\u001b[31;49m23.0.1\u001b[0m\u001b[39;49m -> \u001b[0m\u001b[32;49m23.3.1\u001b[0m\n",
      "\u001b[1m[\u001b[0m\u001b[34;49mnotice\u001b[0m\u001b[1;39;49m]\u001b[0m\u001b[39;49m To update, run: \u001b[0m\u001b[32;49mpython3 -m pip install --upgrade pip\u001b[0m\n"
     ]
    }
   ],
   "source": [
    "!pip3 install maritalk"
   ]
  },
  {
   "cell_type": "code",
   "execution_count": 76,
   "id": "04925de5",
   "metadata": {},
   "outputs": [],
   "source": [
    "import maritalk\n",
    "import json"
   ]
  },
  {
   "cell_type": "code",
   "execution_count": 28,
   "id": "27589ff1",
   "metadata": {},
   "outputs": [],
   "source": [
    "model = maritalk.MariTalk(key=\"116513011270210399349$9863a284af03c0a5d423985e6bca6f61a79a71044cd3dbc59c7e2e795dee9f5a\")"
   ]
  },
  {
   "cell_type": "code",
   "execution_count": 72,
   "id": "54ccf3f4",
   "metadata": {},
   "outputs": [],
   "source": [
    "def mariChat(messages):\n",
    "    answer = model.generate(\n",
    "    messages,\n",
    "    do_sample=False,\n",
    "    max_tokens=4000,\n",
    "    temperature=0,\n",
    "    top_p=0.95)\n",
    "\n",
    "    return answer\n",
    "    "
   ]
  },
  {
   "cell_type": "code",
   "execution_count": 60,
   "id": "dcca4122",
   "metadata": {},
   "outputs": [],
   "source": [
    "def normalizeJSON(jsonStr):\n",
    "    prompt_1 = (\n",
    "        f\"Precisamos normalizar o JSON_1, retorne o JSON_1 com o nome dos campos noramalizados de acordo com os padrões do JSON.\\n\"\n",
    "        f\"Precisamos apenas do JSON_1, pronto para ser consumido.\\n\"\n",
    "        f\"Responda apenas com o JSON_1 modificado\\n\"\n",
    "        f\"JSON_1: \\n\"\n",
    "        f\"{jsonStr}\"\n",
    "    )\n",
    "    messages = [\n",
    "        {\"role\": \"user\", \"content\": prompt_1},\n",
    "    ]\n",
    "    \n",
    "    json_normalized = mariChat(messages)\n",
    "    \n",
    "    \n",
    "    return json_normalized\n",
    "    \n",
    "        \n",
    "        "
   ]
  },
  {
   "cell_type": "code",
   "execution_count": 86,
   "id": "a3227a7d",
   "metadata": {},
   "outputs": [],
   "source": [
    "def species_to_json(species):\n",
    "    jsonDict = {\n",
    "        'nome_especie': '',\n",
    "        'altura_fase_adulta': '',\n",
    "        'tempo_ate_colheita': '',\n",
    "        'descricao': ''\n",
    "    }\n",
    "    jsonStr = json.dumps(jsonDict)\n",
    "    prompt = (\n",
    "        f\"Precisamos que você extraia informações da lista_de_especies_1 e salve em um JSON.\\n\"\n",
    "        f\"Para isso utilize o modelo JSON_MODELO apresentado abaixo.\\n\"\n",
    "        f\"Responda apenas com o JSON pronto para ser consumido.\\n\"\n",
    "        f\"JSON_MODELO: \\n\"\n",
    "        f\"```\\n\"\n",
    "        f\"{jsonStr}\\n\"\n",
    "        f\"```\\n\\n\"\n",
    "        f\"lista_de_especies_1: \\n\"\n",
    "        f\"{species}\"\n",
    "    )\n",
    "    resposta = mariChat(prompt)\n",
    "    return resposta"
   ]
  },
  {
   "cell_type": "code",
   "execution_count": 73,
   "id": "abb2d6a8",
   "metadata": {},
   "outputs": [],
   "source": [
    "def get_species(qtd):\n",
    "    prompt = (\n",
    "        f\"Retorne {qtd} espécies nativas da Mata Atlântica com possível valor de mercado. Se disponível, inclua na lista a altura durante a fase adulta, o tempo em anos até o corte/colheita e uma pequena descrição.\"\n",
    "    )\n",
    "\n",
    "    messages = [\n",
    "        {\"role\": \"user\", \"content\": prompt},\n",
    "    ]\n",
    "\n",
    "    resposta = mariChat(messages)\n",
    "    return resposta"
   ]
  },
  {
   "cell_type": "code",
   "execution_count": 87,
   "id": "bf636de5",
   "metadata": {},
   "outputs": [
    {
     "name": "stdout",
     "output_type": "stream",
     "text": [
      "```\n",
      "[\n",
      "  {\n",
      "    \"nome_especie\": \"Pau-brasil\",\n",
      "    \"altura_fase_adulta\": \"até 30 metros\",\n",
      "    \"tempo_ate_colheita\": \"cerca de 20 anos\",\n",
      "    \"descricao\": \"Árvore nativa do Brasil, conhecida por sua madeira de cor avermelhada e resistente, amplamente utilizada na construção civil e na fabricação de móveis.\"\n",
      "  },\n",
      "  {\n",
      "    \"nome_especie\": \"Mogno\",\n",
      "    \"altura_fase_adulta\": \"até 30 metros\",\n",
      "    \"tempo_ate_colheita\": \"cerca de 25 anos\",\n",
      "    \"descricao\": \"Madeira de alta qualidade, amplamente utilizada na fabricação de móveis de luxo e na construção de instrumentos musicais.\"\n",
      "  },\n",
      "  {\n",
      "    \"nome_especie\": \"Cedro\",\n",
      "    \"altura_fase_adulta\": \"até 25 metros\",\n",
      "    \"tempo_ate_colheita\": \"cerca de 25 anos\",\n",
      "    \"descricao\": \"Madeira de alta qualidade, amplamente utilizada na fabricação de móveis e na construção civil.\"\n",
      "  },\n",
      "  {\n",
      "    \"nome_especie\": \"Ipê\",\n",
      "    \"altura_fase_adulta\": \"até 30 metros\",\n",
      "    \"tempo_ate_colheita\": \"cerca de 25 anos\",\n",
      "    \"descricao\": \"Madeira de alta qualidade, amplamente utilizada na fabricação de móveis e na construção civil.\"\n",
      "  },\n",
      "  {\n",
      "    \"nome_especie\": \"Peroba-rosa\",\n",
      "    \"altura_fase_adulta\": \"até 25 metros\",\n",
      "    \"tempo_ate_colheita\": \"cerca de 25 anos\",\n",
      "    \"descricao\": \"Madeira de alta qualidade, amplamente utilizada na fabricação de móveis e na construção civil.\"\n",
      "  },\n",
      "  {\n",
      "    \"nome_especie\": \"Jatobá\",\n",
      "    \"altura_fase_adulta\": \"até 20 metros\",\n",
      "    \"tempo_ate_colheita\": \"cerca de 20 anos\",\n",
      "    \"descricao\": \"Madeira de alta qualidade, amplamente utilizada na fabricação de móveis e na construção civil.\"\n",
      "  },\n",
      "  {\n",
      "    \"nome_especie\": \"Angelim\",\n",
      "    \"altura_fase_adulta\": \"até 30 metros\",\n",
      "    \"tempo_ate_colheita\": \"cerca de 25 anos\",\n",
      "    \"descricao\": \"Madeira de alta qualidade, amplamente utilizada na fabricação de móveis e na construção civil.\"\n",
      "  },\n",
      "  {\n",
      "    \"nome_especie\": \"Sucupira\",\n",
      "    \"altura_fase_adulta\": \"até 25 metros\",\n",
      "    \"tempo_ate_colheita\": \"cerca de 25 anos\",\n",
      "    \"descricao\": \"Madeira de alta qualidade, amplamente utilizada na fabricação de móveis e na construção civil.\"\n",
      "  },\n",
      "  {\n",
      "    \"nome_especie\": \"Cerejeira\",\n",
      "    \"altura_fase_adulta\": \"até 15 metros\",\n",
      "    \"tempo_ate_colheita\": \"cerca de 15 anos\",\n",
      "    \"descricao\": \"Madeira de alta qualidade, amplamente utilizada na fabricação de móveis e na construção civil.\"\n",
      "  },\n",
      "  {\n",
      "    \"nome_especie\": \"Canela-amarela\",\n",
      "    \"altura_fase_adulta\": \"até 25 metros\",\n",
      "    \"tempo_ate_colheita\": \"cerca de 25 anos\",\n",
      "    \"descricao\": \"Madeira de alta qualidade, amplamente utilizada na fabricação de móveis e na construção civil.\"\n",
      "  },\n",
      "  {\n",
      "    \"nome_especie\": \"Canela-imbuia\",\n",
      "    \"altura_fase_adulta\": \"até 25 metros\",\n",
      "    \"tempo_ate_colheita\": \"cerca de 25 anos\",\n",
      "    \"descricao\": \"Madeira de alta qualidade, amplamente utilizada na fabricação de móveis e na construção civil.\"\n",
      "  },\n",
      "  {\n",
      "    \"nome_especie\": \"Guaratã\",\n",
      "    \"altura_fase_adulta\": \"até 15 metros\",\n",
      "    \"tempo_ate_colheita\": \"cerca de 15 anos\",\n",
      "    \"descricao\": \"Madeira de alta qualidade, amplamente utilizada na fabricação de móveis e na construção civil.\"\n",
      "  },\n",
      "  {\n",
      "    \"nome_especie\": \"Pau-de-jacarandá\",\n",
      "    \"altura_fase_adulta\": \"até 25 metros\",\n",
      "    \"tempo_ate_colheita\": \"cerca de 25 anos\",\n",
      "    \"descricao\": \"Madeira de alta qualidade, amplamente utilizada na fabricação de móveis e na construção civil.\"\n",
      "  },\n",
      "  {\n",
      "    \"nome_especie\": \"Pau-de-marfim\",\n",
      "    \"altura_fase_adulta\": \"até 25 metros\",\n",
      "    \"tempo_ate_colheita\": \"cerca de 25 anos\",\n",
      "    \"descricao\": \"Madeira de alta qualidade, amplamente utilizada na fabricação de móveis e na construção civil.\"\n",
      "  },\n",
      "  {\n",
      "    \"nome_especie\": \"Pau-de-viola\",\n",
      "    \"altura_fase_adulta\": \"até 25 metros\",\n",
      "    \"tempo_ate_colheita\": \"cerca de 25 anos\",\n",
      "    \"descricao\": \"Madeira de alta qualidade, amplamente utilizada na fabricação de móveis e na construção civil.\"\n",
      "  },\n",
      "  {\n",
      "    \"nome_especie\": \"Pau-de-tucum\",\n",
      "    \"altura_fase_adulta\": \"até 25 metros\",\n",
      "    \"tempo_ate_colheita\": \"cerca de 25 anos\",\n",
      "    \"descricao\": \"Madeira de alta qualidade, amplamente utilizada na fabricação de móveis e na construção civil.\"\n",
      "  },\n",
      "  {\n",
      "    \"nome_especie\": \"Pau-de-tucumã\",\n",
      "    \"altura_fase_adulta\": \"até 25 metros\",\n",
      "    \"tempo_ate_colheita\": \"cerca de 25 anos\",\n",
      "    \"descricao\": \"Madeira de alta qualidade, amplamente utilizada na fabricação de móveis e na construção civil.\"\n",
      "  }\n",
      "]\n",
      "```\n"
     ]
    }
   ],
   "source": [
    "#especies = get_species(20)\n",
    "json_especies = species_to_json(especies)\n",
    "print(json_especies)"
   ]
  },
  {
   "cell_type": "code",
   "execution_count": 85,
   "id": "cb6e2f16",
   "metadata": {},
   "outputs": [
    {
     "name": "stdout",
     "output_type": "stream",
     "text": [
      "Para extrair as informações da lista\\_de\\_especie\\_1 e salvar em um JSON, podemos utilizar o seguinte código:\n",
      "```python\n",
      "import json\n",
      "\n",
      "# Cria uma lista vazia para armazenar as espécies\n",
      "especie_list = []\n",
      "\n",
      "# Percorre a lista_de_especie_1 e extrai as informações\n",
      "for item in lista_de_especie_1:\n",
      "    # Cria um dicionário para cada espécie com as informações extraídas\n",
      "    esp_dict = {\n",
      "        \"nome_especie\": item[0],\n",
      "        \"altura_fase_adulta\": item[1],\n",
      "        \"tempo_ate_colheita\": item[2],\n",
      "        \"descricao\": item[3]\n",
      "    }\n",
      "    # Adiciona o dicionário à lista de espécies\n",
      "    espécie_list.append(esp_dict)\n",
      "\n",
      "# Converte a lista de espécies em um JSON\n",
      "json_data = json.dumps(espécie_list)\n",
      "\n",
      "# Imprime o JSON\n",
      "print(json_data)\n",
      "```\n",
      "O código acima percorre a lista\\_de\\_especie\\_1 e extrai as informações de cada espécie, criando um dicionário para cada uma delas com as informações extraídas. Em seguida, adiciona cada dicionário à lista de espécies. Por fim, converte a lista de espécies em um JSON utilizando a função json.dumps() e imprime o resultado.\n"
     ]
    }
   ],
   "source": [
    "print(json_especies)"
   ]
  },
  {
   "cell_type": "code",
   "execution_count": 61,
   "id": "5c39dabe",
   "metadata": {},
   "outputs": [],
   "source": [
    "jsonStr = \"\"\"{[\n",
    "          {\"nome\": \"Angelim-Pedra\",   \"tempo até o corte/colheita\": 20 },\n",
    "          { \"nome\": \"Cedro\",  \"altura média\": 30, \"tempo até o corte/colheita\": 30 },\n",
    "          { \"nome\": \"Cumaru\",  \"altura média\": 15,  \"tempo até o corte/colheita\": 15 }\n",
    "        ]}\"\"\""
   ]
  },
  {
   "cell_type": "code",
   "execution_count": 62,
   "id": "e99bd23c",
   "metadata": {},
   "outputs": [
    {
     "name": "stdout",
     "output_type": "stream",
     "text": [
      "{\n",
      "\"tipos-de-madeira\": [\n",
      "{\n",
      "\"nome\": \"Angelim-Pedra\",\n",
      "\"tempo-ate-o-corte-colheita\": 20\n",
      "},\n",
      "{\n",
      "\"nome\": \"Cedro\",\n",
      "\"altura-media\": 30,\n",
      "\"tempo-ate-o-corte-colheita\": 30\n",
      "},\n",
      "{\n",
      "\"nome\": \"Cumaru\",\n",
      "\"altura-media\": 15,\n",
      "\"tempo-ate-o-corte-colheita\": 15\n",
      "}\n",
      "]\n",
      "}\n"
     ]
    }
   ],
   "source": [
    "normalized = normalizeJSON(jsonStr)\n",
    "print(normalized)"
   ]
  },
  {
   "cell_type": "code",
   "execution_count": 30,
   "id": "719027c6",
   "metadata": {},
   "outputs": [],
   "source": []
  },
  {
   "cell_type": "code",
   "execution_count": 31,
   "id": "d78083e1",
   "metadata": {},
   "outputs": [],
   "source": [
    "messages = [\n",
    "    {\"role\": \"user\", \"content\": prompt},\n",
    "]"
   ]
  },
  {
   "cell_type": "code",
   "execution_count": 32,
   "id": "55923872",
   "metadata": {},
   "outputs": [],
   "source": [
    "resposta = marichat(messages)"
   ]
  },
  {
   "cell_type": "code",
   "execution_count": 33,
   "id": "55274f04",
   "metadata": {},
   "outputs": [
    {
     "name": "stdout",
     "output_type": "stream",
     "text": [
      "{\n",
      "\"espécies\": [\n",
      "{\n",
      "\"nome\": \"Cumaru\",\n",
      "\"altura média\": 15,\n",
      "\"tempo até o corte/colheita\": 15\n",
      "}\n",
      "]\n",
      "}\n"
     ]
    }
   ],
   "source": [
    "print(resposta)"
   ]
  },
  {
   "cell_type": "code",
   "execution_count": 34,
   "id": "55c1fb6d",
   "metadata": {},
   "outputs": [],
   "source": []
  },
  {
   "cell_type": "code",
   "execution_count": 35,
   "id": "56e8380d",
   "metadata": {},
   "outputs": [],
   "source": [
    "messages = [\n",
    "    {\"role\": \"user\", \"content\": prompt},\n",
    "]"
   ]
  },
  {
   "cell_type": "code",
   "execution_count": 36,
   "id": "e7f557a3",
   "metadata": {},
   "outputs": [
    {
     "name": "stdout",
     "output_type": "stream",
     "text": [
      "{\n",
      "\"tipos-de-madeira\": [\n",
      "{\n",
      "\"nome\": \"Angelim-Pedra\",\n",
      "\"tempo-ate-o-corte-colheita\": 20\n",
      "},\n",
      "{\n",
      "\"nome\": \"Cedro\",\n",
      "\"altura-media\": 30,\n",
      "\"tempo-ate-o-corte-colheita\": 30\n",
      "},\n",
      "{\n",
      "\"nome\": \"Cumaru\",\n",
      "\"altura-media\": 15,\n",
      "\"tempo-ate-o-corte-colheita\": 15\n",
      "}\n",
      "]\n",
      "}\n"
     ]
    }
   ],
   "source": [
    "resposta = marichat(messages)\n",
    "print(resposta)"
   ]
  },
  {
   "cell_type": "code",
   "execution_count": null,
   "id": "a4db548f",
   "metadata": {},
   "outputs": [],
   "source": []
  }
 ],
 "metadata": {
  "kernelspec": {
   "display_name": "Python 3 (ipykernel)",
   "language": "python",
   "name": "python3"
  },
  "language_info": {
   "codemirror_mode": {
    "name": "ipython",
    "version": 3
   },
   "file_extension": ".py",
   "mimetype": "text/x-python",
   "name": "python",
   "nbconvert_exporter": "python",
   "pygments_lexer": "ipython3",
   "version": "3.10.12"
  }
 },
 "nbformat": 4,
 "nbformat_minor": 5
}
